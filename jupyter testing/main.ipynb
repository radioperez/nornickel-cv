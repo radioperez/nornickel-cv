{
 "cells": [
  {
   "cell_type": "code",
   "execution_count": null,
   "metadata": {},
   "outputs": [],
   "source": [
    "import matplotlib.pyplot as plt\n",
    "import pandas as pd\n",
    "import numpy as np\n",
    "import os\n",
    "import cv2 as cv\n",
    "from sklearn.preprocessing import MinMaxScaler\n",
    "from sklearn.model_selection import train_test_split\n",
    "import tensorflow as tf\n",
    "from tensorflow import keras\n",
    "from keras.layers import Input, Dense, Flatten, SimpleRNN, LSTM, GRU, Conv2D, MaxPool2D\n",
    "from keras.models import Sequential\n",
    "from keras import backend\n",
    "from keras import metrics\n",
    "from keras import preprocessing\n",
    "from keras.callbacks import ModelCheckpoint, EarlyStopping\n",
    "from sklearn.metrics import mean_squared_error, mean_absolute_error, r2_score"
   ]
  },
  {
   "cell_type": "code",
   "execution_count": null,
   "metadata": {},
   "outputs": [],
   "source": [
    "path = r\"d:\\Work\\nn_data\\cv_open_dataset\" #по стопам Вани Дика\n",
    "xpath = path+\"\\open_img\"\n",
    "ypath = path+\"\\open_msk\"\n",
    "x = []       \n",
    "y = []\n",
    "shape = (1920,1080)#решейп это кто  \n",
    "\n",
    "\n",
    "#загрузка иксов aka картинок\n",
    "for filename in os.listdir(xpath):\n",
    "    img = cv.imread(os.path.join(xpath,filename))\n",
    "\n",
    "    x.append(img)\n",
    "\n",
    "#загрузка игреков aka масок\n",
    "for filename in os.listdir(ypath):\n",
    "    img = cv.imread(os.path.join(ypath,filename))\n",
    "\n",
    "    y.append(img)\n",
    "\n",
    "x = np.array(x)\n",
    "y = np.array(y)"
   ]
  }
 ],
 "metadata": {
  "kernelspec": {
   "display_name": "Python 3",
   "language": "python",
   "name": "python3"
  },
  "language_info": {
   "name": "python",
   "version": "3.12.6"
  }
 },
 "nbformat": 4,
 "nbformat_minor": 2
}
