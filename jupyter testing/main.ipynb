{
 "cells": [
  {
   "cell_type": "code",
   "execution_count": 6,
   "metadata": {},
   "outputs": [],
   "source": [
    "import matplotlib.pyplot as plt\n",
    "import pandas as pd\n",
    "import numpy as np\n",
    "import os\n",
    "import cv2 as cv\n",
    "# Изменять размер картинок до загрузки\n",
    "from skimage.transform import resize\n",
    "import skimage.io as io\n",
    "\n",
    "from sklearn.preprocessing import MinMaxScaler\n",
    "from sklearn.model_selection import train_test_split\n",
    "import tensorflow as tf\n",
    "from tensorflow import keras\n",
    "from keras.layers import Input, Dense, Flatten, SimpleRNN, LSTM, GRU, Conv2D, MaxPool2D\n",
    "from keras.models import Sequential\n",
    "\n",
    "from keras import backend\n",
    "from keras import metrics\n",
    "from keras import preprocessing\n",
    "from keras.callbacks import ModelCheckpoint, EarlyStopping\n",
    "from sklearn.metrics import mean_squared_error, mean_absolute_error, r2_score"
   ]
  },
  {
   "cell_type": "code",
   "execution_count": 33,
   "metadata": {},
   "outputs": [],
   "source": [
    "data_dir = os.path.join(os.pardir, os.pardir,'data')\n",
    "\n",
    "x = []       \n",
    "y = []\n",
    "shape = (1920,1080)#решейп это кто\n",
    "\n",
    "for fullpath, dirs, files in os.walk(data_dir):\n",
    "    if len(dirs) == 0:\n",
    "        dirname = fullpath.split(os.path.sep)[-1]\n",
    "        if dirname == 'open_img':\n",
    "            for file in files:\n",
    "                image = io.imread(os.path.join(fullpath,file))\n",
    "                image = resize(image, shape)\n",
    "                x.append(image)\n",
    "        else:\n",
    "            for file in files:\n",
    "                image = io.imread(os.path.join(fullpath, file))\n",
    "                image = resize(image, shape)\n",
    "                y.append(image)\n",
    "\n",
    "x = np.array(x)\n",
    "y = np.array(y)"
   ]
  }
 ],
 "metadata": {
  "kernelspec": {
   "display_name": "Python 3",
   "language": "python",
   "name": "python3"
  },
  "language_info": {
   "codemirror_mode": {
    "name": "ipython",
    "version": 3
   },
   "file_extension": ".py",
   "mimetype": "text/x-python",
   "name": "python",
   "nbconvert_exporter": "python",
   "pygments_lexer": "ipython3",
   "version": "3.12.8"
  }
 },
 "nbformat": 4,
 "nbformat_minor": 2
}
